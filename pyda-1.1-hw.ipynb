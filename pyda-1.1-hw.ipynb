{
 "cells": [
  {
   "cell_type": "markdown",
   "metadata": {},
   "source": [
    "**Задание 1**. Даны 2 строки: *long_phrase* и *short_phrase*. \n",
    "Напишите код, который проверяет действительно ли длинная фраза *long_phrase* длиннее короткой *short_phrase*. И выводит *True* или *False* в зависимости от результата сравнения."
   ]
  },
  {
   "cell_type": "code",
   "execution_count": 1,
   "metadata": {},
   "outputs": [
    {
     "data": {
      "text/plain": [
       "True"
      ]
     },
     "execution_count": 1,
     "metadata": {},
     "output_type": "execute_result"
    }
   ],
   "source": [
    "long_phrase = 'Насколько проще было бы писать программы, если бы не заказчики'\n",
    "short_phrase = '640Кб должно хватить для любых задач. Билл Гейтс (по легенде)'\n",
    "len(long_phrase) > len(short_phrase)"
   ]
  },
  {
   "cell_type": "markdown",
   "metadata": {},
   "source": [
    "**Задание 2**. Дано значение объема файла в байтах. Напишите перевод этого значения в мегабайты в формате: \"*Объем файла равен 213.68Mb*\""
   ]
  },
  {
   "cell_type": "code",
   "execution_count": 2,
   "metadata": {},
   "outputs": [
    {
     "name": "stdout",
     "output_type": "stream",
     "text": [
      "\"Объем файла равен  213.68 Mb\"\n"
     ]
    }
   ],
   "source": [
    "size_in_bytes = 224059719\n",
    "tmp_var = round(size_in_bytes/(1024*1024),2)\n",
    "print( '\"Объем файла равен ', tmp_var,'Mb\"')"
   ]
  },
  {
   "cell_type": "markdown",
   "metadata": {},
   "source": [
    "**Задание 3**. Разработать приложение для определения знака зодиака по дате рождения. Пример:\n",
    "\n",
    "Введите месяц: март\n",
    "\n",
    "Введите число: 6\n",
    "\n",
    "Вывод:\n",
    "Рыбы"
   ]
  },
  {
   "cell_type": "code",
   "execution_count": null,
   "metadata": {},
   "outputs": [],
   "source": [
    "blCorrectData = False\n",
    "\n",
    "NameOfZodiacBefore21 = {\n",
    "    'январь': 'Козерог',\n",
    "    'февраль': 'Водолей',\n",
    "    'март': 'Рыбы',\n",
    "    'апрель': 'Овен',\n",
    "    'май': 'Телец',\n",
    "    'июнь': 'Близнецы',\n",
    "    'июль': 'Лев',\n",
    "    'август': 'Рак',\n",
    "    'сентябрь': 'Дева',\n",
    "    'октябрь': 'Весы',\n",
    "    'ноябрь': 'Скорпион',\n",
    "    'декабрь': 'Стрелец'\n",
    "}\n",
    "\n",
    "NameOfZodiacAfter21 = {\n",
    "    'январь': 'Водолей',\n",
    "    'февраль': 'Рыбы',\n",
    "    'март': 'Овен',\n",
    "    'апрель': 'Телец',\n",
    "    'май': 'Близнецы',\n",
    "    'июнь': 'Лев',\n",
    "    'июль': 'Рак',\n",
    "    'август': 'Дева',\n",
    "    'сентябрь': 'Весы',\n",
    "    'октябрь': 'Скорпион',\n",
    "    'ноябрь': 'Стрелец',\n",
    "    'декабрь': 'Козерог'\n",
    "}\n",
    "\n",
    "while (blCorrectData == False):\n",
    "    inMounth = input('Введите месяц: ')\n",
    "    inDate = input('Введите число: ')\n",
    "\n",
    "    try:\n",
    "        inDateInteger = int(inDate)\n",
    "        if((inDateInteger >= 1) and (inDateInteger <= 31)):\n",
    "            blCorrectData = True\n",
    "            \n",
    "            if(inDateInteger < 21):\n",
    "                print('Вывод: ' + NameOfZodiacBefore21[inMounth])\n",
    "            else:\n",
    "                print('Вывод: ' + NameOfZodiacAfter21[inMounth])\n",
    "        else:\n",
    "            blCorrectData = False\n",
    "    except KeyError as e:\n",
    "        #raise ValueError('Undefined unit: {}'.format(e.args[0]))\n",
    "        blCorrectData = False\n",
    "\n",
    "    if(blCorrectData == False):\n",
    "        print('Некорректные данные, попробуйте снова.')\n"
   ]
  },
  {
   "cell_type": "markdown",
   "metadata": {},
   "source": [
    "**Задание 4**. Нужно разработать приложение для финансового планирования.\n",
    "Приложение учитывает сколько уходит на ипотеку, \"на жизнь\" и сколько нужно отложить на пенсию.\n",
    "Пользователь вводит:\n",
    "- заработанную плату в месяц.\n",
    "- сколько процентов от ЗП уходит на ипотеку.\n",
    "- сколько процентов от ЗП уходит \"на жизнь\".\n",
    "- сколько раз приходит премия в год.\n",
    "\n",
    "Остальная часть заработанной платы откладывается на пенсию.\n",
    "\n",
    "Также пользователю приходит премия в размере зарплаты, от которой половина уходит на отпуск, а вторая половина откладывается.\n",
    "\n",
    "Программа должна учитывать сколько премий было в год.\n",
    "\n",
    "Нужно вывести сколько денег тратит пользователь на ипотеку и сколько он накопит за год.\n",
    "\n",
    "Пример:\n",
    "\n",
    "Введите заработанную плату в месяц: 100000\n",
    "\n",
    "Введите сколько процентов уходит на ипотеку: 30\n",
    "\n",
    "Введите сколько процентов уходит на жизнь: 50\n",
    "\n",
    "Введите количество премий за год: 2\n",
    "\n",
    "Вывод:\n",
    "На ипотеку было потрачено: 360000 рублей\n",
    "Было накоплено: 340000 рублей"
   ]
  },
  {
   "cell_type": "code",
   "execution_count": 4,
   "metadata": {},
   "outputs": [
    {
     "name": "stdout",
     "output_type": "stream",
     "text": [
      "Введите заработанную плату в месяц: 100000\n",
      "Введите сколько процентов от ЗП уходит на ипотеку: 30\n",
      "Введите сколько процентов от ЗП уходит \"на жизнь\": 50\n",
      "Введите сколько раз приходит премия в год: 2\n",
      "\n",
      "Вывод:\n",
      "На ипотеку было потрачено: 360000 рублей\n",
      "Было накоплено: 340000 рублей\n"
     ]
    }
   ],
   "source": [
    "blCorrectData = False\n",
    "\n",
    "    \n",
    "while (blCorrectData == False):\n",
    "    inZPForMounth = input('Введите заработанную плату в месяц: ')\n",
    "    inPercentIpo = input('Введите сколько процентов от ЗП уходит на ипотеку: ')\n",
    "    inPercentForLife = input('Введите сколько процентов от ЗП уходит \"на жизнь\": ')\n",
    "    inCountPrize = input('Введите сколько раз приходит премия в год: ')\n",
    "    \n",
    "    try:\n",
    "        blCorrectData = True\n",
    "\n",
    "        inZPForMounth_Integer = int(inZPForMounth)\n",
    "        inPercentIpo_Integer = int(inPercentIpo)\n",
    "        inPercentForLife_Integer = int(inPercentForLife)\n",
    "        inCountPrize_Integer = int(inCountPrize)\n",
    "\n",
    "        if((inPercentIpo_Integer < 0) or (inPercentIpo_Integer > 100) or (inPercentForLife_Integer < 0) or (inPercentForLife_Integer > 100)):\n",
    "            blCorrectData = False\n",
    "        if((inPercentIpo_Integer + inPercentForLife_Integer) > 100):\n",
    "            blCorrectData = False\n",
    "        if((inPercentIpo_Integer < 0) or (inPercentForLife_Integer < 0)):\n",
    "            blCorrectData = False\n",
    "        \n",
    "        accForIpo = inZPForMounth_Integer*12*inPercentIpo_Integer/100\n",
    "        accForLife = inZPForMounth_Integer*12*inPercentForLife_Integer/100\n",
    "        accumulationForPension = inZPForMounth_Integer*12 + 0.5*inZPForMounth_Integer*inCountPrize_Integer - accForIpo - accForLife\n",
    "    except KeyError as e:\n",
    "        #raise ValueError('Undefined unit: {}'.format(e.args[0]))\n",
    "        blCorrectData = False\n",
    "\n",
    "    if(blCorrectData):\n",
    "        print('\\nВывод:')\n",
    "        print('На ипотеку было потрачено: ' + str(round(accForIpo)) + ' рублей')\n",
    "        print('Было накоплено: ' + str(round(accumulationForPension)) + ' рублей')\n",
    "\n",
    "    if(blCorrectData == False):\n",
    "        print('\\nНекорректные данные, попробуйте снова.')"
   ]
  },
  {
   "cell_type": "code",
   "execution_count": null,
   "metadata": {},
   "outputs": [],
   "source": []
  }
 ],
 "metadata": {
  "kernelspec": {
   "display_name": "Python 3",
   "language": "python",
   "name": "python3"
  },
  "language_info": {
   "codemirror_mode": {
    "name": "ipython",
    "version": 3
   },
   "file_extension": ".py",
   "mimetype": "text/x-python",
   "name": "python",
   "nbconvert_exporter": "python",
   "pygments_lexer": "ipython3",
   "version": "3.7.3"
  }
 },
 "nbformat": 4,
 "nbformat_minor": 2
}
