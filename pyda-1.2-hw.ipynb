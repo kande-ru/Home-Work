{
 "cells": [
  {
   "cell_type": "markdown",
   "metadata": {},
   "source": [
    "## Задание 1"
   ]
  },
  {
   "cell_type": "markdown",
   "metadata": {},
   "source": [
    "Дан список с визитами по городам и странам. \n",
    "Напишите код, который возвращает отфильтрованный список geo_logs, содержащий только визиты из России."
   ]
  },
  {
   "cell_type": "code",
   "execution_count": null,
   "metadata": {},
   "outputs": [],
   "source": [
    "geo_logs = [\n",
    "    {'visit1': ['Москва', 'Россия']},\n",
    "    {'visit2': ['Дели', 'Индия']},\n",
    "    {'visit3': ['Владимир', 'Россия']},\n",
    "    {'visit4': ['Лиссабон', 'Португалия']},\n",
    "    {'visit5': ['Париж', 'Франция']},\n",
    "    {'visit6': ['Лиссабон', 'Португалия']},\n",
    "    {'visit7': ['Тула', 'Россия']},\n",
    "    {'visit8': ['Тула', 'Россия']},\n",
    "    {'visit9': ['Курск', 'Россия']},\n",
    "    {'visit10': ['Архангельск', 'Россия']}\n",
    "]\n",
    "\n",
    "x = len(geo_logs)\n",
    "while x >= 0:\n",
    "    x = x - 1\n",
    "    for key, value in geo_logs[x].items():\n",
    "        if value[1] != \"Россия\":\n",
    "            del(geo_logs[x])\n",
    "\n",
    "print(geo_logs)"
   ]
  },
  {
   "cell_type": "markdown",
   "metadata": {},
   "source": [
    "## Задание 2"
   ]
  },
  {
   "cell_type": "markdown",
   "metadata": {},
   "source": [
    "Выведите на экран все уникальные гео-ID из значений словаря ids. Т. е. список вида [213, 15, 54, 119, 98, 35]"
   ]
  },
  {
   "cell_type": "code",
   "execution_count": null,
   "metadata": {},
   "outputs": [],
   "source": [
    "ids = {'user1': [213, 213, 213, 15, 213], \n",
    "       'user2': [54, 54, 119, 119, 119], \n",
    "       'user3': [213, 98, 98, 35]}\n",
    "\n",
    "ids_res = set()\n",
    "for key, value in ids.items():\n",
    "    ids_res = ids_res.union(set(value))\n",
    "\n",
    "print(ids_res)"
   ]
  },
  {
   "cell_type": "markdown",
   "metadata": {},
   "source": [
    "## Задание 3"
   ]
  },
  {
   "cell_type": "markdown",
   "metadata": {},
   "source": [
    "Дан список поисковых запросов. Получить распределение количества слов в них. \n",
    "Т. е. поисковых запросов из одного - слова 5%, из двух - 7%, из трех - 3% и т.д."
   ]
  },
  {
   "cell_type": "code",
   "execution_count": 50,
   "metadata": {},
   "outputs": [
    {
     "name": "stdout",
     "output_type": "stream",
     "text": [
      "{3: 57, 2: 43}\n"
     ]
    }
   ],
   "source": [
    "queries = [\n",
    "    'смотреть сериалы онлайн',\n",
    "    'новости спорта',\n",
    "    'афиша кино',\n",
    "    'курс доллара',\n",
    "    'сериалы этим летом',\n",
    "    'курс по питону',\n",
    "    'сериалы про спорт',\n",
    "]\n",
    "\n",
    "countLooks = 0\n",
    "\n",
    "nameVector = {}\n",
    "\n",
    "while countLooks < len(queries):\n",
    "    countWords = queries[countLooks].count(' ') + 1\n",
    "    \n",
    "    if nameVector.get(countWords) == None:\n",
    "        nameVector[countWords] = int(1)\n",
    "    else:\n",
    "        nameVector[countWords] = nameVector.get(countWords) + 1\n",
    "    \n",
    "    countLooks = countLooks + 1\n",
    "\n",
    "for key, value in nameVector.items():\n",
    "    nameVector[key] = round((value / countLooks) * 100)\n",
    "\n",
    "print(nameVector)"
   ]
  },
  {
   "cell_type": "markdown",
   "metadata": {},
   "source": [
    "## Задание 4"
   ]
  },
  {
   "cell_type": "markdown",
   "metadata": {},
   "source": [
    "Дана статистика рекламных каналов по объемам продаж. Напишите скрипт, который возвращает название канала с максимальным объемом.\n",
    "Т. е. в данном примере скрипт должен возвращать 'yandex'."
   ]
  },
  {
   "cell_type": "code",
   "execution_count": null,
   "metadata": {},
   "outputs": [],
   "source": [
    "stats = {'facebook': 55, 'yandex': 120, 'vk': 115, 'google': 99, 'email': 42, 'ok': 98}\n",
    "\n",
    "max_value = 0\n",
    "max_name = ''\n",
    "    \n",
    "ids_res = set()\n",
    "for key, value in stats.items():\n",
    "    if(max_value < value):\n",
    "        max_value = value\n",
    "        max_name = key\n",
    "\n",
    "print(max_name)"
   ]
  },
  {
   "cell_type": "markdown",
   "metadata": {},
   "source": [
    "## Задание 5"
   ]
  },
  {
   "cell_type": "markdown",
   "metadata": {},
   "source": [
    "Дан поток логов по количеству просмотренных страниц для каждого пользователя. Список отсортирован по ID пользователя. Вам необходимо написать алгоритм, который считает среднее значение просмотров на пользователя. \n",
    "Т. е. надо посчитать отношение суммы всех просмотров к количеству уникальных пользователей."
   ]
  },
  {
   "cell_type": "code",
   "execution_count": null,
   "metadata": {},
   "outputs": [],
   "source": [
    "stream = [\n",
    "    '2018-01-01,user1,3',\n",
    "    '2018-01-07,user1,4',\n",
    "    '2018-03-29,user1,1',\n",
    "    '2018-04-04,user1,13',\n",
    "    '2018-01-05,user2,7',\n",
    "    '2018-06-14,user3,4',\n",
    "    '2018-07-02,user3,10',\n",
    "    '2018-03-21,user4,19',\n",
    "    '2018-03-22,user4,4',\n",
    "    '2018-04-22,user4,8',\n",
    "    '2018-05-03,user4,9',\n",
    "    '2018-05-11,user4,11',\n",
    "]\n",
    "\n",
    "countLooks = 0\n",
    "xx = -1\n",
    "percent100 = 0\n",
    "\n",
    "stream_split = stream[0].split(',')\n",
    "key_tmp = []\n",
    "\n",
    "stream_value = []\n",
    "stream_name = []\n",
    "\n",
    "while countLooks < len(stream)-1:\n",
    "    if key_tmp != stream_split[1]:\n",
    "        key_tmp = stream_split[1]\n",
    "        xx = xx + 1\n",
    "        stream_value.append(int(stream_split[2]))\n",
    "        stream_name.append(stream_split[1])\n",
    "    else:\n",
    "        stream_value[xx] = stream_value[xx] + int(stream_split[2])\n",
    "\n",
    "    percent100 = percent100 + int(stream_split[2])\n",
    "    countLooks = countLooks + 1\n",
    "    stream_split = stream[countLooks].split(',')\n",
    "\n",
    "countLooks = countLooks + 1\n",
    "percent100 = percent100 + int(stream_split[2])\n",
    "stream_value[xx] = stream_value[xx] + int(stream_split[2])\n",
    "\n",
    "i = 0\n",
    "dict_out = {}\n",
    "while i < len(stream_value):\n",
    "    dict_out[stream_name[i]] = round((stream_value[i]/percent100)*100)\n",
    "    i = i + 1\n",
    "\n",
    "print('Среднее значение посещений:', countLooks/len(stream_value), '\\nПроцент посещений каждого пользователя:', dict_out)\n",
    "# посчитал проценты - сначала неточно понял, что нужно"
   ]
  },
  {
   "cell_type": "markdown",
   "metadata": {},
   "source": [
    "## Задание 6"
   ]
  },
  {
   "cell_type": "markdown",
   "metadata": {},
   "source": [
    "Дана статистика рекламных кампаний по дням. Напишите алгоритм, который по паре дата-кампания ищет значение численного столбца. \n",
    "Т. е. для даты '2018-01-01' и 'google' нужно получить число 25. \n",
    "Считайте, что все комбинации дата-кампания уникальны."
   ]
  },
  {
   "cell_type": "code",
   "execution_count": 17,
   "metadata": {},
   "outputs": [
    {
     "name": "stdout",
     "output_type": "stream",
     "text": [
      "Введите дату: 2018-01-03\n",
      "Введите имя ПС: google\n",
      "1843\n"
     ]
    }
   ],
   "source": [
    "stats = [\n",
    "    ['2018-01-01', 'google', 25],\n",
    "    ['2018-01-01', 'yandex', 65],\n",
    "    ['2018-01-01', 'market', 89],\n",
    "    ['2018-01-02', 'google', 574],\n",
    "    ['2018-01-02', 'yandex', 249],\n",
    "    ['2018-01-02', 'market', 994],\n",
    "    ['2018-01-03', 'google', 1843],\n",
    "    ['2018-01-03', 'yandex', 1327],\n",
    "    ['2018-01-03', 'market', 1764],\n",
    "]\n",
    "\n",
    "inKey = input('Введите дату: ')\n",
    "inNamePS = input('Введите имя ПС: ')\n",
    "\n",
    "i = 0\n",
    "stats_out = 'Кампания не найдена'\n",
    "while i < len(stats):\n",
    "    if ((stats[i][0] == inKey) and (stats[i][1] == inNamePS)):\n",
    "        stats_out = stats[i][2]\n",
    "    i = i + 1\n",
    "    \n",
    "print(stats_out)\n"
   ]
  },
  {
   "cell_type": "code",
   "execution_count": null,
   "metadata": {},
   "outputs": [],
   "source": []
  }
 ],
 "metadata": {
  "kernelspec": {
   "display_name": "Python 3",
   "language": "python",
   "name": "python3"
  },
  "language_info": {
   "codemirror_mode": {
    "name": "ipython",
    "version": 3
   },
   "file_extension": ".py",
   "mimetype": "text/x-python",
   "name": "python",
   "nbconvert_exporter": "python",
   "pygments_lexer": "ipython3",
   "version": "3.7.3"
  }
 },
 "nbformat": 4,
 "nbformat_minor": 2
}
