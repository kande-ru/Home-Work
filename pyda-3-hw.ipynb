{
 "cells": [
  {
   "cell_type": "markdown",
   "metadata": {},
   "source": [
    "## Задание 1"
   ]
  },
  {
   "cell_type": "markdown",
   "metadata": {},
   "source": [
    "Дан список вида:"
   ]
  },
  {
   "cell_type": "code",
   "execution_count": null,
   "metadata": {},
   "outputs": [],
   "source": [
    "data = [\n",
    "    [13, 25, 23, 34],\n",
    "    [45, 32, 44, 47],\n",
    "    [12, 33, 23, 95],\n",
    "    [13, 53, 34, 35]\n",
    "]\n",
    "\n",
    "minLength = min(len(data), len(data[0]))\n",
    "summ_out = 0;\n",
    "for i in range(minLength):\n",
    "    summ_out = summ_out + data[i][i]\n",
    "\n",
    "print(summ_out)"
   ]
  },
  {
   "cell_type": "markdown",
   "metadata": {},
   "source": [
    "Напишите функцию, которая возвращает сумму элементов на диагонали. Т. е. 13+32+23+35."
   ]
  },
  {
   "cell_type": "markdown",
   "metadata": {},
   "source": [
    "## Задание 2"
   ]
  },
  {
   "cell_type": "markdown",
   "metadata": {},
   "source": [
    "Дан список чисел, часть из которых имеют строковый тип или содержат буквы. Напишите функцию, которая возвращает сумму квадратов элементов, которые могут быть числами."
   ]
  },
  {
   "cell_type": "code",
   "execution_count": null,
   "metadata": {},
   "outputs": [],
   "source": [
    "data = [1, '5', 'abc', 20, '2']\n",
    "\n",
    "ints = 0\n",
    "for line in data:\n",
    "    try:\n",
    "        ints = ints + (int(line)**2)\n",
    "    except Exception:\n",
    "        print(line)\n",
    "    \n",
    "print(ints)\n",
    "\n",
    "def add(x, y):\n",
    "    return x + y"
   ]
  },
  {
   "cell_type": "markdown",
   "metadata": {},
   "source": [
    "## Задание 3"
   ]
  },
  {
   "cell_type": "markdown",
   "metadata": {},
   "source": [
    "Напишите функцию, возвращающую сумму первых n чисел Фибоначчи."
   ]
  },
  {
   "cell_type": "code",
   "execution_count": null,
   "metadata": {},
   "outputs": [],
   "source": [
    "def Fib(x):\n",
    "    summ = 0 #[]\n",
    "    s0 = 0\n",
    "    s1 = 1\n",
    "    if (x < 1): return summ;\n",
    "    #summ.append(0)\n",
    "    if (x == 1): return summ;\n",
    "    summ = 1 #summ.append(1)\n",
    "    for i in range(x - 2):\n",
    "        s_out = s1 + s0\n",
    "        s0 = s1;\n",
    "        s1 = s_out;\n",
    "        summ += s_out #summ.append(s_out)\n",
    "    return summ\n",
    "\n",
    "cnt = int(input('Введите количество чисел: '))\n",
    "print(Fib(cnt))"
   ]
  },
  {
   "cell_type": "markdown",
   "metadata": {},
   "source": [
    "## Задание 4"
   ]
  },
  {
   "cell_type": "markdown",
   "metadata": {},
   "source": [
    "Дан набор данных об обучении студентов на курсе программирования, который содержит: \n",
    "1) имя\n",
    "2) фамилию \n",
    "3) пол \n",
    "4) наличие у студента опыта в программировании \n",
    "5) набор оценок за домашние работы \n",
    "6) оценку за итоговую работу.\n",
    "\n",
    "Напишите программу, которая будет принимать команду от пользователя и возвращать соотвествующий результат.\n",
    "Список команд: \n",
    "1 - вывести на экран среднюю оценку за все ДЗ по группе и вывести на экран среднюю оценку за экзамен по группе;\n",
    "2 - вывести среднюю оценку за ДЗ и за экзамен по группе в разрезе пола студентов\n",
    "3 - вывести среднюю оценку за ДЗ и за экзамен в разрезе наличия опыта в программировании у студентов.\n",
    "\n",
    "Прогрмма должна быть полностью декомпозирована на функции (кроме объявления функций и вызова итоговой функции в реализации ничего быть не должно)."
   ]
  },
  {
   "cell_type": "code",
   "execution_count": 85,
   "metadata": {},
   "outputs": [
    {
     "name": "stdout",
     "output_type": "stream",
     "text": [
      "Введите команду: 3\n",
      "Домашняя работа: Экзамен:\n",
      "program_exp :  True :  8.48 ; 9.0\n",
      "program_exp :  False :  8.2 ; 10.0\n"
     ]
    }
   ],
   "source": [
    "students_list = [\n",
    "    {'name': 'Василий', 'surname': 'Теркин', 'sex': 'м', 'program_exp': True, 'grade': [8, 8, 9, 10, 9], 'exam': 9},\n",
    "    {'name': 'Мария', 'surname': 'Павлова', 'sex': 'ж', 'program_exp': True, 'grade': [7, 8, 9, 7, 9], 'exam': 8},\n",
    "    {'name': 'Ирина', 'surname': 'Андреева', 'sex': 'ж', 'program_exp': True, 'grade': [10, 9, 8, 10, 10], 'exam': 10},\n",
    "    {'name': 'Татьяна', 'surname': 'Сидорова', 'sex': 'ж', 'program_exp': True, 'grade': [7, 8, 8, 9, 8], 'exam': 8},\n",
    "    {'name': 'Иван', 'surname': 'Васильев', 'sex': 'м', 'program_exp': True, 'grade': [9, 8, 9, 6, 9], 'exam': 10},\n",
    "    {'name': 'Роман', 'surname': 'Золотарев', 'sex': 'м', 'program_exp': False, 'grade': [8, 9, 9, 6, 9], 'exam': 10}\n",
    "]\n",
    "def average_rating():\n",
    "    average_rating_hw = 0\n",
    "    average_rating_exam = 0\n",
    "    divider = 0\n",
    "    x = 0\n",
    "    while x < len(students_list):\n",
    "        xx = 0\n",
    "        while xx < len(students_list[x]['grade']):\n",
    "            average_rating_hw = average_rating_hw + students_list[x]['grade'][xx]\n",
    "            xx = xx + 1\n",
    "            divider += 1\n",
    "        average_rating_exam = average_rating_exam + students_list[x]['exam']\n",
    "        x = x + 1\n",
    "    print('Средняя оценка за все ДЗ по группе', average_rating_hw/divider)\n",
    "    return print('Средняя оценка за экзамен по группе: ', average_rating_exam/len(students_list))\n",
    "\n",
    "def average_rating_selection(selector_value):\n",
    "    average_rating_hw = {}\n",
    "    average_rating_exam = {}\n",
    "    x = 0\n",
    "    while x < len(students_list):\n",
    "        xx = 0\n",
    "        if average_rating_exam.get(students_list[x][selector_value]) == None:\n",
    "            average_rating_hw[students_list[x][selector_value]] = [0, 0]\n",
    "            average_rating_exam[students_list[x][selector_value]] = [students_list[x]['exam'], 1]\n",
    "        else:\n",
    "            average_rating_exam[students_list[x][selector_value]][0] += students_list[x]['exam']\n",
    "            average_rating_exam[students_list[x][selector_value]][1] += 1\n",
    "            \n",
    "        while xx < len(students_list[x]['grade']):\n",
    "            average_rating_hw[students_list[x][selector_value]][0] += students_list[x]['grade'][xx]\n",
    "            average_rating_hw[students_list[x][selector_value]][1] += 1\n",
    "            xx = xx + 1\n",
    "        \n",
    "        x = x + 1\n",
    "\n",
    "    print('Домашняя работа:', 'Экзамен:')\n",
    "    \n",
    "    for key, value in average_rating_hw.items():\n",
    "        average_rating_hw[key] = average_rating_hw[key][0] / average_rating_hw[key][1]\n",
    "        average_rating_exam[key] = average_rating_exam[key][0] /  average_rating_exam[key][1]\n",
    "        print(selector_value, ': ', key, ': ', round(average_rating_hw[key], 2), ';', round(average_rating_exam[key], 2))\n",
    "\n",
    "def calc_results(sel_val):\n",
    "    if sel_val == 1:\n",
    "        average_rating()\n",
    "    if sel_val == 2:\n",
    "        average_rating_selection('sex')\n",
    "    if sel_val == 3:\n",
    "        average_rating_selection('program_exp')\n",
    "    \n",
    "sel_val = int(input('Введите команду: '))\n",
    "calc_results(sel_val)\n"
   ]
  },
  {
   "cell_type": "code",
   "execution_count": null,
   "metadata": {},
   "outputs": [],
   "source": []
  }
 ],
 "metadata": {
  "kernelspec": {
   "display_name": "Python 3",
   "language": "python",
   "name": "python3"
  },
  "language_info": {
   "codemirror_mode": {
    "name": "ipython",
    "version": 3
   },
   "file_extension": ".py",
   "mimetype": "text/x-python",
   "name": "python",
   "nbconvert_exporter": "python",
   "pygments_lexer": "ipython3",
   "version": "3.7.3"
  }
 },
 "nbformat": 4,
 "nbformat_minor": 2
}
